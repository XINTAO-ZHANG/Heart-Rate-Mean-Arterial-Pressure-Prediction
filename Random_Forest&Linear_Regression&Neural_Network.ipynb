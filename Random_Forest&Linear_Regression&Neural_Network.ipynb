{
 "cells": [
  {
   "cell_type": "markdown",
   "metadata": {},
   "source": [
    "# Final Project -- ddl2: Feature Engineering and Models"
   ]
  },
  {
   "cell_type": "markdown",
   "metadata": {},
   "source": [
    "### Group: Toxic  \n",
    "### Member: \n",
    "**Qingyi (Lexie) Sun**,  Model and EDA  \n",
    "**Todd Zhang**,  EDA and Visualization"
   ]
  },
  {
   "cell_type": "code",
   "execution_count": 1,
   "metadata": {},
   "outputs": [],
   "source": [
    "import numpy as np\n",
    "import pandas as pd\n",
    "import os\n",
    "import matplotlib.pyplot as plt\n",
    "%matplotlib inline\n",
    "import seaborn as sns\n",
    "from time import time\n",
    "import datetime\n",
    "import xgboost as xgb\n",
    "from sklearn.metrics import r2_score\n",
    "from sklearn.model_selection import train_test_split,KFold\n",
    "import gc\n",
    "from sklearn.linear_model import LinearRegression\n",
    "from sklearn.ensemble import RandomForestRegressor\n",
    "import random"
   ]
  },
  {
   "cell_type": "markdown",
   "metadata": {},
   "source": [
    "## Prepare Data"
   ]
  },
  {
   "cell_type": "code",
   "execution_count": 2,
   "metadata": {},
   "outputs": [],
   "source": [
    "data = pd.read_csv(\"train.csv\")"
   ]
  },
  {
   "cell_type": "code",
   "execution_count": 3,
   "metadata": {},
   "outputs": [
    {
     "data": {
      "text/html": [
       "<div>\n",
       "<style scoped>\n",
       "    .dataframe tbody tr th:only-of-type {\n",
       "        vertical-align: middle;\n",
       "    }\n",
       "\n",
       "    .dataframe tbody tr th {\n",
       "        vertical-align: top;\n",
       "    }\n",
       "\n",
       "    .dataframe thead th {\n",
       "        text-align: right;\n",
       "    }\n",
       "</style>\n",
       "<table border=\"1\" class=\"dataframe\">\n",
       "  <thead>\n",
       "    <tr style=\"text-align: right;\">\n",
       "      <th></th>\n",
       "      <th>patient_id</th>\n",
       "      <th>key</th>\n",
       "      <th>gender</th>\n",
       "      <th>age</th>\n",
       "      <th>x1</th>\n",
       "      <th>x2</th>\n",
       "      <th>x3</th>\n",
       "      <th>x4</th>\n",
       "      <th>x5</th>\n",
       "      <th>x6</th>\n",
       "      <th>xx1</th>\n",
       "      <th>xx2</th>\n",
       "      <th>xx3</th>\n",
       "      <th>xx4</th>\n",
       "      <th>xx5</th>\n",
       "      <th>y_mean_MAP</th>\n",
       "      <th>y_mean_HR</th>\n",
       "    </tr>\n",
       "  </thead>\n",
       "  <tbody>\n",
       "    <tr>\n",
       "      <th>0</th>\n",
       "      <td>1891</td>\n",
       "      <td>1891-3</td>\n",
       "      <td>1</td>\n",
       "      <td>75</td>\n",
       "      <td>22</td>\n",
       "      <td>1</td>\n",
       "      <td>2</td>\n",
       "      <td>0</td>\n",
       "      <td>0</td>\n",
       "      <td>1</td>\n",
       "      <td>80.0</td>\n",
       "      <td>95.0</td>\n",
       "      <td>99.9</td>\n",
       "      <td>49.4</td>\n",
       "      <td>62.5</td>\n",
       "      <td>59.04</td>\n",
       "      <td>80.0</td>\n",
       "    </tr>\n",
       "    <tr>\n",
       "      <th>1</th>\n",
       "      <td>1891</td>\n",
       "      <td>1891-3</td>\n",
       "      <td>1</td>\n",
       "      <td>75</td>\n",
       "      <td>22</td>\n",
       "      <td>1</td>\n",
       "      <td>2</td>\n",
       "      <td>0</td>\n",
       "      <td>0</td>\n",
       "      <td>1</td>\n",
       "      <td>80.0</td>\n",
       "      <td>94.9</td>\n",
       "      <td>98.4</td>\n",
       "      <td>48.7</td>\n",
       "      <td>61.3</td>\n",
       "      <td>59.04</td>\n",
       "      <td>80.0</td>\n",
       "    </tr>\n",
       "    <tr>\n",
       "      <th>2</th>\n",
       "      <td>1891</td>\n",
       "      <td>1891-3</td>\n",
       "      <td>1</td>\n",
       "      <td>75</td>\n",
       "      <td>22</td>\n",
       "      <td>1</td>\n",
       "      <td>2</td>\n",
       "      <td>0</td>\n",
       "      <td>0</td>\n",
       "      <td>1</td>\n",
       "      <td>80.0</td>\n",
       "      <td>95.0</td>\n",
       "      <td>95.3</td>\n",
       "      <td>48.5</td>\n",
       "      <td>60.3</td>\n",
       "      <td>59.04</td>\n",
       "      <td>80.0</td>\n",
       "    </tr>\n",
       "    <tr>\n",
       "      <th>3</th>\n",
       "      <td>1891</td>\n",
       "      <td>1891-3</td>\n",
       "      <td>1</td>\n",
       "      <td>75</td>\n",
       "      <td>22</td>\n",
       "      <td>1</td>\n",
       "      <td>2</td>\n",
       "      <td>0</td>\n",
       "      <td>0</td>\n",
       "      <td>1</td>\n",
       "      <td>80.0</td>\n",
       "      <td>95.0</td>\n",
       "      <td>97.4</td>\n",
       "      <td>48.9</td>\n",
       "      <td>61.3</td>\n",
       "      <td>59.04</td>\n",
       "      <td>80.0</td>\n",
       "    </tr>\n",
       "    <tr>\n",
       "      <th>4</th>\n",
       "      <td>1891</td>\n",
       "      <td>1891-3</td>\n",
       "      <td>1</td>\n",
       "      <td>75</td>\n",
       "      <td>22</td>\n",
       "      <td>1</td>\n",
       "      <td>2</td>\n",
       "      <td>0</td>\n",
       "      <td>0</td>\n",
       "      <td>1</td>\n",
       "      <td>76.7</td>\n",
       "      <td>95.7</td>\n",
       "      <td>99.6</td>\n",
       "      <td>50.2</td>\n",
       "      <td>62.8</td>\n",
       "      <td>59.04</td>\n",
       "      <td>80.0</td>\n",
       "    </tr>\n",
       "  </tbody>\n",
       "</table>\n",
       "</div>"
      ],
      "text/plain": [
       "   patient_id     key  gender  age  x1  x2  x3  x4  x5  x6   xx1   xx2   xx3  \\\n",
       "0        1891  1891-3       1   75  22   1   2   0   0   1  80.0  95.0  99.9   \n",
       "1        1891  1891-3       1   75  22   1   2   0   0   1  80.0  94.9  98.4   \n",
       "2        1891  1891-3       1   75  22   1   2   0   0   1  80.0  95.0  95.3   \n",
       "3        1891  1891-3       1   75  22   1   2   0   0   1  80.0  95.0  97.4   \n",
       "4        1891  1891-3       1   75  22   1   2   0   0   1  76.7  95.7  99.6   \n",
       "\n",
       "    xx4   xx5  y_mean_MAP  y_mean_HR  \n",
       "0  49.4  62.5       59.04       80.0  \n",
       "1  48.7  61.3       59.04       80.0  \n",
       "2  48.5  60.3       59.04       80.0  \n",
       "3  48.9  61.3       59.04       80.0  \n",
       "4  50.2  62.8       59.04       80.0  "
      ]
     },
     "execution_count": 3,
     "metadata": {},
     "output_type": "execute_result"
    }
   ],
   "source": [
    "data.head()"
   ]
  },
  {
   "cell_type": "code",
   "execution_count": 4,
   "metadata": {},
   "outputs": [],
   "source": [
    "test = pd.read_csv('data_for_test.csv')"
   ]
  },
  {
   "cell_type": "code",
   "execution_count": 5,
   "metadata": {
    "scrolled": true
   },
   "outputs": [
    {
     "data": {
      "text/html": [
       "<div>\n",
       "<style scoped>\n",
       "    .dataframe tbody tr th:only-of-type {\n",
       "        vertical-align: middle;\n",
       "    }\n",
       "\n",
       "    .dataframe tbody tr th {\n",
       "        vertical-align: top;\n",
       "    }\n",
       "\n",
       "    .dataframe thead th {\n",
       "        text-align: right;\n",
       "    }\n",
       "</style>\n",
       "<table border=\"1\" class=\"dataframe\">\n",
       "  <thead>\n",
       "    <tr style=\"text-align: right;\">\n",
       "      <th></th>\n",
       "      <th>patient_id</th>\n",
       "      <th>key</th>\n",
       "      <th>gender</th>\n",
       "      <th>age</th>\n",
       "      <th>x1</th>\n",
       "      <th>x2</th>\n",
       "      <th>x3</th>\n",
       "      <th>x4</th>\n",
       "      <th>x5</th>\n",
       "      <th>x6</th>\n",
       "      <th>xx1</th>\n",
       "      <th>xx2</th>\n",
       "      <th>xx3</th>\n",
       "      <th>xx4</th>\n",
       "      <th>xx5</th>\n",
       "    </tr>\n",
       "  </thead>\n",
       "  <tbody>\n",
       "    <tr>\n",
       "      <th>0</th>\n",
       "      <td>1005</td>\n",
       "      <td>1005-1</td>\n",
       "      <td>0</td>\n",
       "      <td>80</td>\n",
       "      <td>41</td>\n",
       "      <td>4</td>\n",
       "      <td>2</td>\n",
       "      <td>1</td>\n",
       "      <td>0</td>\n",
       "      <td>0</td>\n",
       "      <td>59.0</td>\n",
       "      <td>99.0</td>\n",
       "      <td>118.0</td>\n",
       "      <td>38.0</td>\n",
       "      <td>66.0</td>\n",
       "    </tr>\n",
       "    <tr>\n",
       "      <th>1</th>\n",
       "      <td>1005</td>\n",
       "      <td>1005-1</td>\n",
       "      <td>0</td>\n",
       "      <td>80</td>\n",
       "      <td>41</td>\n",
       "      <td>4</td>\n",
       "      <td>2</td>\n",
       "      <td>1</td>\n",
       "      <td>0</td>\n",
       "      <td>0</td>\n",
       "      <td>60.0</td>\n",
       "      <td>98.0</td>\n",
       "      <td>124.0</td>\n",
       "      <td>41.0</td>\n",
       "      <td>71.0</td>\n",
       "    </tr>\n",
       "    <tr>\n",
       "      <th>2</th>\n",
       "      <td>1005</td>\n",
       "      <td>1005-1</td>\n",
       "      <td>0</td>\n",
       "      <td>80</td>\n",
       "      <td>41</td>\n",
       "      <td>4</td>\n",
       "      <td>2</td>\n",
       "      <td>1</td>\n",
       "      <td>0</td>\n",
       "      <td>0</td>\n",
       "      <td>60.0</td>\n",
       "      <td>97.0</td>\n",
       "      <td>125.0</td>\n",
       "      <td>42.0</td>\n",
       "      <td>70.0</td>\n",
       "    </tr>\n",
       "    <tr>\n",
       "      <th>3</th>\n",
       "      <td>1005</td>\n",
       "      <td>1005-1</td>\n",
       "      <td>0</td>\n",
       "      <td>80</td>\n",
       "      <td>41</td>\n",
       "      <td>4</td>\n",
       "      <td>2</td>\n",
       "      <td>1</td>\n",
       "      <td>0</td>\n",
       "      <td>0</td>\n",
       "      <td>58.0</td>\n",
       "      <td>99.0</td>\n",
       "      <td>123.0</td>\n",
       "      <td>41.0</td>\n",
       "      <td>69.0</td>\n",
       "    </tr>\n",
       "    <tr>\n",
       "      <th>4</th>\n",
       "      <td>1005</td>\n",
       "      <td>1005-1</td>\n",
       "      <td>0</td>\n",
       "      <td>80</td>\n",
       "      <td>41</td>\n",
       "      <td>4</td>\n",
       "      <td>2</td>\n",
       "      <td>1</td>\n",
       "      <td>0</td>\n",
       "      <td>0</td>\n",
       "      <td>60.0</td>\n",
       "      <td>100.0</td>\n",
       "      <td>133.0</td>\n",
       "      <td>47.0</td>\n",
       "      <td>78.0</td>\n",
       "    </tr>\n",
       "  </tbody>\n",
       "</table>\n",
       "</div>"
      ],
      "text/plain": [
       "   patient_id     key  gender  age  x1  x2  x3  x4  x5  x6   xx1    xx2  \\\n",
       "0        1005  1005-1       0   80  41   4   2   1   0   0  59.0   99.0   \n",
       "1        1005  1005-1       0   80  41   4   2   1   0   0  60.0   98.0   \n",
       "2        1005  1005-1       0   80  41   4   2   1   0   0  60.0   97.0   \n",
       "3        1005  1005-1       0   80  41   4   2   1   0   0  58.0   99.0   \n",
       "4        1005  1005-1       0   80  41   4   2   1   0   0  60.0  100.0   \n",
       "\n",
       "     xx3   xx4   xx5  \n",
       "0  118.0  38.0  66.0  \n",
       "1  124.0  41.0  71.0  \n",
       "2  125.0  42.0  70.0  \n",
       "3  123.0  41.0  69.0  \n",
       "4  133.0  47.0  78.0  "
      ]
     },
     "execution_count": 5,
     "metadata": {},
     "output_type": "execute_result"
    }
   ],
   "source": [
    "test.head(5)"
   ]
  },
  {
   "cell_type": "code",
   "execution_count": 6,
   "metadata": {},
   "outputs": [],
   "source": [
    "group_mean_data = data.groupby('key').mean().reset_index()\n",
    "# group_mean_data['stamp'] = pd.to_numeric(group_mean_data['key'].str.split('-').str[1])"
   ]
  },
  {
   "cell_type": "code",
   "execution_count": 7,
   "metadata": {},
   "outputs": [
    {
     "data": {
      "text/html": [
       "<div>\n",
       "<style scoped>\n",
       "    .dataframe tbody tr th:only-of-type {\n",
       "        vertical-align: middle;\n",
       "    }\n",
       "\n",
       "    .dataframe tbody tr th {\n",
       "        vertical-align: top;\n",
       "    }\n",
       "\n",
       "    .dataframe thead th {\n",
       "        text-align: right;\n",
       "    }\n",
       "</style>\n",
       "<table border=\"1\" class=\"dataframe\">\n",
       "  <thead>\n",
       "    <tr style=\"text-align: right;\">\n",
       "      <th></th>\n",
       "      <th>key</th>\n",
       "      <th>patient_id</th>\n",
       "      <th>gender</th>\n",
       "      <th>age</th>\n",
       "      <th>x1</th>\n",
       "      <th>x2</th>\n",
       "      <th>x3</th>\n",
       "      <th>x4</th>\n",
       "      <th>x5</th>\n",
       "      <th>x6</th>\n",
       "      <th>xx1</th>\n",
       "      <th>xx2</th>\n",
       "      <th>xx3</th>\n",
       "      <th>xx4</th>\n",
       "      <th>xx5</th>\n",
       "      <th>y_mean_MAP</th>\n",
       "      <th>y_mean_HR</th>\n",
       "    </tr>\n",
       "  </thead>\n",
       "  <tbody>\n",
       "    <tr>\n",
       "      <th>0</th>\n",
       "      <td>0-28</td>\n",
       "      <td>0</td>\n",
       "      <td>0</td>\n",
       "      <td>72</td>\n",
       "      <td>39</td>\n",
       "      <td>5</td>\n",
       "      <td>1</td>\n",
       "      <td>0</td>\n",
       "      <td>0</td>\n",
       "      <td>0</td>\n",
       "      <td>80.166667</td>\n",
       "      <td>99.733333</td>\n",
       "      <td>113.433333</td>\n",
       "      <td>69.566667</td>\n",
       "      <td>87.000000</td>\n",
       "      <td>86.426667</td>\n",
       "      <td>79.130000</td>\n",
       "    </tr>\n",
       "    <tr>\n",
       "      <th>1</th>\n",
       "      <td>1-10</td>\n",
       "      <td>1</td>\n",
       "      <td>1</td>\n",
       "      <td>64</td>\n",
       "      <td>55</td>\n",
       "      <td>9</td>\n",
       "      <td>5</td>\n",
       "      <td>1</td>\n",
       "      <td>0</td>\n",
       "      <td>1</td>\n",
       "      <td>72.100000</td>\n",
       "      <td>99.800000</td>\n",
       "      <td>113.900000</td>\n",
       "      <td>59.600000</td>\n",
       "      <td>76.466667</td>\n",
       "      <td>73.033333</td>\n",
       "      <td>72.920000</td>\n",
       "    </tr>\n",
       "    <tr>\n",
       "      <th>2</th>\n",
       "      <td>1-11</td>\n",
       "      <td>1</td>\n",
       "      <td>1</td>\n",
       "      <td>64</td>\n",
       "      <td>55</td>\n",
       "      <td>9</td>\n",
       "      <td>5</td>\n",
       "      <td>1</td>\n",
       "      <td>0</td>\n",
       "      <td>1</td>\n",
       "      <td>71.500000</td>\n",
       "      <td>99.966667</td>\n",
       "      <td>114.066667</td>\n",
       "      <td>59.500000</td>\n",
       "      <td>75.400000</td>\n",
       "      <td>77.560000</td>\n",
       "      <td>72.493333</td>\n",
       "    </tr>\n",
       "    <tr>\n",
       "      <th>3</th>\n",
       "      <td>1-14</td>\n",
       "      <td>1</td>\n",
       "      <td>1</td>\n",
       "      <td>64</td>\n",
       "      <td>55</td>\n",
       "      <td>9</td>\n",
       "      <td>5</td>\n",
       "      <td>1</td>\n",
       "      <td>0</td>\n",
       "      <td>1</td>\n",
       "      <td>99.133333</td>\n",
       "      <td>100.000000</td>\n",
       "      <td>133.433333</td>\n",
       "      <td>69.833333</td>\n",
       "      <td>84.966667</td>\n",
       "      <td>82.523333</td>\n",
       "      <td>118.613333</td>\n",
       "    </tr>\n",
       "    <tr>\n",
       "      <th>4</th>\n",
       "      <td>1-15</td>\n",
       "      <td>1</td>\n",
       "      <td>1</td>\n",
       "      <td>64</td>\n",
       "      <td>55</td>\n",
       "      <td>9</td>\n",
       "      <td>5</td>\n",
       "      <td>1</td>\n",
       "      <td>0</td>\n",
       "      <td>1</td>\n",
       "      <td>150.200000</td>\n",
       "      <td>100.000000</td>\n",
       "      <td>123.733333</td>\n",
       "      <td>77.100000</td>\n",
       "      <td>89.233333</td>\n",
       "      <td>98.706667</td>\n",
       "      <td>189.720000</td>\n",
       "    </tr>\n",
       "    <tr>\n",
       "      <th>...</th>\n",
       "      <td>...</td>\n",
       "      <td>...</td>\n",
       "      <td>...</td>\n",
       "      <td>...</td>\n",
       "      <td>...</td>\n",
       "      <td>...</td>\n",
       "      <td>...</td>\n",
       "      <td>...</td>\n",
       "      <td>...</td>\n",
       "      <td>...</td>\n",
       "      <td>...</td>\n",
       "      <td>...</td>\n",
       "      <td>...</td>\n",
       "      <td>...</td>\n",
       "      <td>...</td>\n",
       "      <td>...</td>\n",
       "      <td>...</td>\n",
       "    </tr>\n",
       "    <tr>\n",
       "      <th>44944</th>\n",
       "      <td>999-21</td>\n",
       "      <td>999</td>\n",
       "      <td>0</td>\n",
       "      <td>41</td>\n",
       "      <td>0</td>\n",
       "      <td>1</td>\n",
       "      <td>5</td>\n",
       "      <td>0</td>\n",
       "      <td>0</td>\n",
       "      <td>0</td>\n",
       "      <td>98.200000</td>\n",
       "      <td>93.800000</td>\n",
       "      <td>116.666667</td>\n",
       "      <td>57.166667</td>\n",
       "      <td>73.000000</td>\n",
       "      <td>72.100000</td>\n",
       "      <td>96.116667</td>\n",
       "    </tr>\n",
       "    <tr>\n",
       "      <th>44945</th>\n",
       "      <td>999-3</td>\n",
       "      <td>999</td>\n",
       "      <td>0</td>\n",
       "      <td>41</td>\n",
       "      <td>0</td>\n",
       "      <td>1</td>\n",
       "      <td>5</td>\n",
       "      <td>0</td>\n",
       "      <td>0</td>\n",
       "      <td>0</td>\n",
       "      <td>103.233333</td>\n",
       "      <td>98.066667</td>\n",
       "      <td>119.100000</td>\n",
       "      <td>56.233333</td>\n",
       "      <td>73.566667</td>\n",
       "      <td>66.503333</td>\n",
       "      <td>106.463333</td>\n",
       "    </tr>\n",
       "    <tr>\n",
       "      <th>44946</th>\n",
       "      <td>999-5</td>\n",
       "      <td>999</td>\n",
       "      <td>0</td>\n",
       "      <td>41</td>\n",
       "      <td>0</td>\n",
       "      <td>1</td>\n",
       "      <td>5</td>\n",
       "      <td>0</td>\n",
       "      <td>0</td>\n",
       "      <td>0</td>\n",
       "      <td>106.300000</td>\n",
       "      <td>94.466667</td>\n",
       "      <td>110.700000</td>\n",
       "      <td>56.433333</td>\n",
       "      <td>71.466667</td>\n",
       "      <td>67.610000</td>\n",
       "      <td>106.866667</td>\n",
       "    </tr>\n",
       "    <tr>\n",
       "      <th>44947</th>\n",
       "      <td>999-7</td>\n",
       "      <td>999</td>\n",
       "      <td>0</td>\n",
       "      <td>41</td>\n",
       "      <td>0</td>\n",
       "      <td>1</td>\n",
       "      <td>5</td>\n",
       "      <td>0</td>\n",
       "      <td>0</td>\n",
       "      <td>0</td>\n",
       "      <td>108.200000</td>\n",
       "      <td>98.033333</td>\n",
       "      <td>104.266667</td>\n",
       "      <td>58.166667</td>\n",
       "      <td>71.100000</td>\n",
       "      <td>70.396667</td>\n",
       "      <td>107.026667</td>\n",
       "    </tr>\n",
       "    <tr>\n",
       "      <th>44948</th>\n",
       "      <td>999-9</td>\n",
       "      <td>999</td>\n",
       "      <td>0</td>\n",
       "      <td>41</td>\n",
       "      <td>0</td>\n",
       "      <td>1</td>\n",
       "      <td>5</td>\n",
       "      <td>0</td>\n",
       "      <td>0</td>\n",
       "      <td>0</td>\n",
       "      <td>109.966667</td>\n",
       "      <td>97.566667</td>\n",
       "      <td>103.533333</td>\n",
       "      <td>51.500000</td>\n",
       "      <td>66.066667</td>\n",
       "      <td>63.740000</td>\n",
       "      <td>108.843333</td>\n",
       "    </tr>\n",
       "  </tbody>\n",
       "</table>\n",
       "<p>44949 rows × 17 columns</p>\n",
       "</div>"
      ],
      "text/plain": [
       "          key  patient_id  gender  age  x1  x2  x3  x4  x5  x6         xx1  \\\n",
       "0        0-28           0       0   72  39   5   1   0   0   0   80.166667   \n",
       "1        1-10           1       1   64  55   9   5   1   0   1   72.100000   \n",
       "2        1-11           1       1   64  55   9   5   1   0   1   71.500000   \n",
       "3        1-14           1       1   64  55   9   5   1   0   1   99.133333   \n",
       "4        1-15           1       1   64  55   9   5   1   0   1  150.200000   \n",
       "...       ...         ...     ...  ...  ..  ..  ..  ..  ..  ..         ...   \n",
       "44944  999-21         999       0   41   0   1   5   0   0   0   98.200000   \n",
       "44945   999-3         999       0   41   0   1   5   0   0   0  103.233333   \n",
       "44946   999-5         999       0   41   0   1   5   0   0   0  106.300000   \n",
       "44947   999-7         999       0   41   0   1   5   0   0   0  108.200000   \n",
       "44948   999-9         999       0   41   0   1   5   0   0   0  109.966667   \n",
       "\n",
       "              xx2         xx3        xx4        xx5  y_mean_MAP   y_mean_HR  \n",
       "0       99.733333  113.433333  69.566667  87.000000   86.426667   79.130000  \n",
       "1       99.800000  113.900000  59.600000  76.466667   73.033333   72.920000  \n",
       "2       99.966667  114.066667  59.500000  75.400000   77.560000   72.493333  \n",
       "3      100.000000  133.433333  69.833333  84.966667   82.523333  118.613333  \n",
       "4      100.000000  123.733333  77.100000  89.233333   98.706667  189.720000  \n",
       "...           ...         ...        ...        ...         ...         ...  \n",
       "44944   93.800000  116.666667  57.166667  73.000000   72.100000   96.116667  \n",
       "44945   98.066667  119.100000  56.233333  73.566667   66.503333  106.463333  \n",
       "44946   94.466667  110.700000  56.433333  71.466667   67.610000  106.866667  \n",
       "44947   98.033333  104.266667  58.166667  71.100000   70.396667  107.026667  \n",
       "44948   97.566667  103.533333  51.500000  66.066667   63.740000  108.843333  \n",
       "\n",
       "[44949 rows x 17 columns]"
      ]
     },
     "execution_count": 7,
     "metadata": {},
     "output_type": "execute_result"
    }
   ],
   "source": [
    "group_mean_data"
   ]
  },
  {
   "cell_type": "code",
   "execution_count": 27,
   "metadata": {},
   "outputs": [],
   "source": [
    "group_tail_data = data.groupby('key').tail(1)\n",
    "# group_tail_data['stamp'] = pd.to_numeric(group_tail_data['key'].str.split('-').str[1])\n",
    "# group_tail_data = group_tail_data.sort_values(['patient_id', 'stamp'])\n",
    "# group_tail_data = group_tail_data.groupby(['patient_id']).tail(10)"
   ]
  },
  {
   "cell_type": "code",
   "execution_count": 9,
   "metadata": {},
   "outputs": [],
   "source": [
    "# group_mean_data = group_mean_data.sort_values(['patient_id', 'stamp'])\n",
    "# data_mean = group_mean_data.groupby(['patient_id']).tail(10)"
   ]
  },
  {
   "cell_type": "code",
   "execution_count": 10,
   "metadata": {},
   "outputs": [],
   "source": [
    "# group_tail_data.head(20)\n",
    "# data_mean.head(20)\n",
    "# group_mean_data.head(20)"
   ]
  },
  {
   "cell_type": "code",
   "execution_count": 28,
   "metadata": {},
   "outputs": [],
   "source": [
    "def get_data(data):\n",
    "    X = data[['gender', 'age', 'x1', 'x2', 'x3', 'x4', 'x5', 'x6', 'xx1', 'xx2', 'xx3', 'xx4', 'xx5']]\n",
    "    y_lgmap = np.log(data['y_mean_MAP'])\n",
    "    y_hr = data['y_mean_HR']\n",
    "    return X, y_lgmap, y_hr"
   ]
  },
  {
   "cell_type": "code",
   "execution_count": 29,
   "metadata": {},
   "outputs": [],
   "source": [
    "X, y_lgmap, y_hr = get_data(group_tail_data)"
   ]
  },
  {
   "cell_type": "markdown",
   "metadata": {},
   "source": [
    "#### 1. train-test split"
   ]
  },
  {
   "cell_type": "code",
   "execution_count": 30,
   "metadata": {},
   "outputs": [],
   "source": [
    "y = pd.concat([y_lgmap, y_hr], axis=1)"
   ]
  },
  {
   "cell_type": "code",
   "execution_count": 31,
   "metadata": {},
   "outputs": [],
   "source": [
    "X_train, X_val, y_train, y_val = train_test_split(X, y, test_size=0.2, shuffle=False)\n",
    "ym_train = y_train['y_mean_MAP']\n",
    "ym_val = y_val['y_mean_MAP']\n",
    "yh_train = y_train['y_mean_HR']\n",
    "yh_val = y_val['y_mean_HR']"
   ]
  },
  {
   "cell_type": "code",
   "execution_count": 32,
   "metadata": {},
   "outputs": [
    {
     "data": {
      "text/html": [
       "<div>\n",
       "<style scoped>\n",
       "    .dataframe tbody tr th:only-of-type {\n",
       "        vertical-align: middle;\n",
       "    }\n",
       "\n",
       "    .dataframe tbody tr th {\n",
       "        vertical-align: top;\n",
       "    }\n",
       "\n",
       "    .dataframe thead th {\n",
       "        text-align: right;\n",
       "    }\n",
       "</style>\n",
       "<table border=\"1\" class=\"dataframe\">\n",
       "  <thead>\n",
       "    <tr style=\"text-align: right;\">\n",
       "      <th></th>\n",
       "      <th>gender</th>\n",
       "      <th>age</th>\n",
       "      <th>x1</th>\n",
       "      <th>x2</th>\n",
       "      <th>x3</th>\n",
       "      <th>x4</th>\n",
       "      <th>x5</th>\n",
       "      <th>x6</th>\n",
       "      <th>xx1</th>\n",
       "      <th>xx2</th>\n",
       "      <th>xx3</th>\n",
       "      <th>xx4</th>\n",
       "      <th>xx5</th>\n",
       "    </tr>\n",
       "  </thead>\n",
       "  <tbody>\n",
       "    <tr>\n",
       "      <th>29</th>\n",
       "      <td>1</td>\n",
       "      <td>75</td>\n",
       "      <td>22</td>\n",
       "      <td>1</td>\n",
       "      <td>2</td>\n",
       "      <td>0</td>\n",
       "      <td>0</td>\n",
       "      <td>1</td>\n",
       "      <td>80.000</td>\n",
       "      <td>96.800</td>\n",
       "      <td>79.900</td>\n",
       "      <td>45.300</td>\n",
       "      <td>54.000</td>\n",
       "    </tr>\n",
       "    <tr>\n",
       "      <th>59</th>\n",
       "      <td>1</td>\n",
       "      <td>75</td>\n",
       "      <td>22</td>\n",
       "      <td>1</td>\n",
       "      <td>2</td>\n",
       "      <td>0</td>\n",
       "      <td>0</td>\n",
       "      <td>1</td>\n",
       "      <td>80.000</td>\n",
       "      <td>100.000</td>\n",
       "      <td>151.800</td>\n",
       "      <td>63.600</td>\n",
       "      <td>89.700</td>\n",
       "    </tr>\n",
       "    <tr>\n",
       "      <th>89</th>\n",
       "      <td>1</td>\n",
       "      <td>75</td>\n",
       "      <td>22</td>\n",
       "      <td>1</td>\n",
       "      <td>2</td>\n",
       "      <td>0</td>\n",
       "      <td>0</td>\n",
       "      <td>1</td>\n",
       "      <td>80.000</td>\n",
       "      <td>99.400</td>\n",
       "      <td>94.700</td>\n",
       "      <td>45.600</td>\n",
       "      <td>57.100</td>\n",
       "    </tr>\n",
       "    <tr>\n",
       "      <th>119</th>\n",
       "      <td>1</td>\n",
       "      <td>75</td>\n",
       "      <td>22</td>\n",
       "      <td>1</td>\n",
       "      <td>2</td>\n",
       "      <td>0</td>\n",
       "      <td>0</td>\n",
       "      <td>1</td>\n",
       "      <td>80.000</td>\n",
       "      <td>100.000</td>\n",
       "      <td>157.600</td>\n",
       "      <td>61.000</td>\n",
       "      <td>87.200</td>\n",
       "    </tr>\n",
       "    <tr>\n",
       "      <th>149</th>\n",
       "      <td>1</td>\n",
       "      <td>75</td>\n",
       "      <td>22</td>\n",
       "      <td>1</td>\n",
       "      <td>2</td>\n",
       "      <td>0</td>\n",
       "      <td>0</td>\n",
       "      <td>1</td>\n",
       "      <td>80.000</td>\n",
       "      <td>96.000</td>\n",
       "      <td>126.400</td>\n",
       "      <td>50.600</td>\n",
       "      <td>69.800</td>\n",
       "    </tr>\n",
       "    <tr>\n",
       "      <th>...</th>\n",
       "      <td>...</td>\n",
       "      <td>...</td>\n",
       "      <td>...</td>\n",
       "      <td>...</td>\n",
       "      <td>...</td>\n",
       "      <td>...</td>\n",
       "      <td>...</td>\n",
       "      <td>...</td>\n",
       "      <td>...</td>\n",
       "      <td>...</td>\n",
       "      <td>...</td>\n",
       "      <td>...</td>\n",
       "      <td>...</td>\n",
       "    </tr>\n",
       "    <tr>\n",
       "      <th>1078649</th>\n",
       "      <td>0</td>\n",
       "      <td>82</td>\n",
       "      <td>47</td>\n",
       "      <td>8</td>\n",
       "      <td>6</td>\n",
       "      <td>0</td>\n",
       "      <td>0</td>\n",
       "      <td>0</td>\n",
       "      <td>68.467</td>\n",
       "      <td>96.034</td>\n",
       "      <td>132.335</td>\n",
       "      <td>55.616</td>\n",
       "      <td>79.634</td>\n",
       "    </tr>\n",
       "    <tr>\n",
       "      <th>1078679</th>\n",
       "      <td>0</td>\n",
       "      <td>82</td>\n",
       "      <td>47</td>\n",
       "      <td>8</td>\n",
       "      <td>6</td>\n",
       "      <td>0</td>\n",
       "      <td>0</td>\n",
       "      <td>0</td>\n",
       "      <td>67.484</td>\n",
       "      <td>95.417</td>\n",
       "      <td>111.786</td>\n",
       "      <td>51.116</td>\n",
       "      <td>71.150</td>\n",
       "    </tr>\n",
       "    <tr>\n",
       "      <th>1078709</th>\n",
       "      <td>0</td>\n",
       "      <td>82</td>\n",
       "      <td>47</td>\n",
       "      <td>8</td>\n",
       "      <td>6</td>\n",
       "      <td>0</td>\n",
       "      <td>0</td>\n",
       "      <td>0</td>\n",
       "      <td>60.766</td>\n",
       "      <td>94.200</td>\n",
       "      <td>147.583</td>\n",
       "      <td>59.349</td>\n",
       "      <td>84.948</td>\n",
       "    </tr>\n",
       "    <tr>\n",
       "      <th>1078739</th>\n",
       "      <td>0</td>\n",
       "      <td>82</td>\n",
       "      <td>47</td>\n",
       "      <td>8</td>\n",
       "      <td>6</td>\n",
       "      <td>0</td>\n",
       "      <td>0</td>\n",
       "      <td>0</td>\n",
       "      <td>69.166</td>\n",
       "      <td>94.767</td>\n",
       "      <td>132.084</td>\n",
       "      <td>57.066</td>\n",
       "      <td>79.964</td>\n",
       "    </tr>\n",
       "    <tr>\n",
       "      <th>1078769</th>\n",
       "      <td>0</td>\n",
       "      <td>82</td>\n",
       "      <td>47</td>\n",
       "      <td>8</td>\n",
       "      <td>6</td>\n",
       "      <td>0</td>\n",
       "      <td>0</td>\n",
       "      <td>0</td>\n",
       "      <td>67.267</td>\n",
       "      <td>94.584</td>\n",
       "      <td>137.866</td>\n",
       "      <td>58.118</td>\n",
       "      <td>84.382</td>\n",
       "    </tr>\n",
       "  </tbody>\n",
       "</table>\n",
       "<p>35959 rows × 13 columns</p>\n",
       "</div>"
      ],
      "text/plain": [
       "         gender  age  x1  x2  x3  x4  x5  x6     xx1      xx2      xx3  \\\n",
       "29            1   75  22   1   2   0   0   1  80.000   96.800   79.900   \n",
       "59            1   75  22   1   2   0   0   1  80.000  100.000  151.800   \n",
       "89            1   75  22   1   2   0   0   1  80.000   99.400   94.700   \n",
       "119           1   75  22   1   2   0   0   1  80.000  100.000  157.600   \n",
       "149           1   75  22   1   2   0   0   1  80.000   96.000  126.400   \n",
       "...         ...  ...  ..  ..  ..  ..  ..  ..     ...      ...      ...   \n",
       "1078649       0   82  47   8   6   0   0   0  68.467   96.034  132.335   \n",
       "1078679       0   82  47   8   6   0   0   0  67.484   95.417  111.786   \n",
       "1078709       0   82  47   8   6   0   0   0  60.766   94.200  147.583   \n",
       "1078739       0   82  47   8   6   0   0   0  69.166   94.767  132.084   \n",
       "1078769       0   82  47   8   6   0   0   0  67.267   94.584  137.866   \n",
       "\n",
       "            xx4     xx5  \n",
       "29       45.300  54.000  \n",
       "59       63.600  89.700  \n",
       "89       45.600  57.100  \n",
       "119      61.000  87.200  \n",
       "149      50.600  69.800  \n",
       "...         ...     ...  \n",
       "1078649  55.616  79.634  \n",
       "1078679  51.116  71.150  \n",
       "1078709  59.349  84.948  \n",
       "1078739  57.066  79.964  \n",
       "1078769  58.118  84.382  \n",
       "\n",
       "[35959 rows x 13 columns]"
      ]
     },
     "execution_count": 32,
     "metadata": {},
     "output_type": "execute_result"
    }
   ],
   "source": [
    "X_train"
   ]
  },
  {
   "cell_type": "markdown",
   "metadata": {},
   "source": [
    "## Models"
   ]
  },
  {
   "cell_type": "code",
   "execution_count": 16,
   "metadata": {},
   "outputs": [],
   "source": [
    "def fit_evaluate_model(model, X_train, y_train, X_valid, y_valid):\n",
    "    model.fit(X_train, y_train)\n",
    "    y_predicted = model.predict(X_valid)\n",
    "    return model, r2_score(y_valid, y_predicted)\n",
    "#     return model, r2_score(np.exp(y_valid), np.exp(y_predicted))\n",
    "#     return np.sqrt(((y_predicted - y_valid) ** 2).mean())"
   ]
  },
  {
   "cell_type": "markdown",
   "metadata": {},
   "source": [
    "### Linear Regression model for y_mean_HR  \n",
    "* Using groupby mean data(all key_id)."
   ]
  },
  {
   "cell_type": "code",
   "execution_count": 18,
   "metadata": {},
   "outputs": [],
   "source": [
    "linear_regression = LinearRegression()"
   ]
  },
  {
   "cell_type": "code",
   "execution_count": 19,
   "metadata": {},
   "outputs": [
    {
     "name": "stdout",
     "output_type": "stream",
     "text": [
      "R^2 on validation set of the linear regression model is: 0.9220414878207371\n"
     ]
    }
   ],
   "source": [
    "lr, lr_yh_val = fit_evaluate_model(linear_regression, X_train, yh_train, X_val, yh_val)\n",
    "print(\"R^2 on validation set of the linear regression model is:\", lr_yh_val)"
   ]
  },
  {
   "cell_type": "markdown",
   "metadata": {},
   "source": [
    "### Random Forest model for y_mean_MAP  \n",
    "* Using groupby tail data(resample, tail key_id).  \n",
    "R^2 on validation set of the Random Forest regression model is: 0.8912117057728295\n",
    "* Using groupby tail data(unsample, all key_id).   \n",
    "R^2 on validation set of the Random Forest regression model is: 0.9215796526108799"
   ]
  },
  {
   "cell_type": "code",
   "execution_count": 33,
   "metadata": {},
   "outputs": [],
   "source": [
    "rf_tail = RandomForestRegressor(n_estimators=500,\n",
    "                           min_samples_leaf=80,\n",
    "                           random_state=42, \n",
    "                           max_depth=10, \n",
    "                           criterion='mse', \n",
    "                           bootstrap=True,\n",
    "                           n_jobs=-1)"
   ]
  },
  {
   "cell_type": "code",
   "execution_count": 34,
   "metadata": {},
   "outputs": [
    {
     "name": "stdout",
     "output_type": "stream",
     "text": [
      "R^2 on validation set of the Random Forest regression model is: 0.9215796526108799\n"
     ]
    }
   ],
   "source": [
    "rf_tail, rf_ym_val = fit_evaluate_model(rf_tail, X_train, ym_train, X_val, ym_val)\n",
    "print(\"R^2 on validation set of the Random Forest regression model is:\", rf_ym_val)"
   ]
  },
  {
   "cell_type": "markdown",
   "metadata": {},
   "source": [
    "#### RandomSearch CV to find the best model setting."
   ]
  },
  {
   "cell_type": "code",
   "execution_count": 35,
   "metadata": {},
   "outputs": [],
   "source": [
    "from sklearn.model_selection import RandomizedSearchCV"
   ]
  },
  {
   "cell_type": "code",
   "execution_count": 39,
   "metadata": {},
   "outputs": [
    {
     "name": "stdout",
     "output_type": "stream",
     "text": [
      "{'n_estimators': [100, 150, 200, 250, 300, 350, 400, 450, 500, 550, 600, 650, 700, 750, 800, 850, 900, 950, 1000], 'max_depth': [1, 5, 10, 15, 20], 'min_samples_leaf': [10, 20, 30, 50, 80, 100, 150]}\n"
     ]
    }
   ],
   "source": [
    "n_estimators = [int(x) for x in np.linspace(start = 100, stop = 1000, num = 19)]\n",
    "max_depth = [int(x) for x in np.linspace(1, 20, num = 5)]\n",
    "min_samples_leaf = [10, 20, 30, 50, 80, 100, 150]\n",
    "bootstrap = True\n",
    "# Create the random grid\n",
    "random_grid = {'n_estimators': n_estimators,\n",
    "               'max_depth': max_depth,\n",
    "               'min_samples_leaf': min_samples_leaf}\n",
    "print(random_grid)"
   ]
  },
  {
   "cell_type": "code",
   "execution_count": 41,
   "metadata": {},
   "outputs": [
    {
     "name": "stdout",
     "output_type": "stream",
     "text": [
      "Fitting 3 folds for each of 100 candidates, totalling 300 fits\n"
     ]
    },
    {
     "name": "stderr",
     "output_type": "stream",
     "text": [
      "[Parallel(n_jobs=-1)]: Using backend LokyBackend with 12 concurrent workers.\n",
      "[Parallel(n_jobs=-1)]: Done  17 tasks      | elapsed:  3.3min\n",
      "[Parallel(n_jobs=-1)]: Done 138 tasks      | elapsed: 11.9min\n",
      "[Parallel(n_jobs=-1)]: Done 300 out of 300 | elapsed: 24.6min finished\n"
     ]
    },
    {
     "data": {
      "text/plain": [
       "RandomizedSearchCV(cv=3, error_score='raise-deprecating',\n",
       "                   estimator=RandomForestRegressor(bootstrap=True,\n",
       "                                                   criterion='mse',\n",
       "                                                   max_depth=None,\n",
       "                                                   max_features='auto',\n",
       "                                                   max_leaf_nodes=None,\n",
       "                                                   min_impurity_decrease=0.0,\n",
       "                                                   min_impurity_split=None,\n",
       "                                                   min_samples_leaf=1,\n",
       "                                                   min_samples_split=2,\n",
       "                                                   min_weight_fraction_leaf=0.0,\n",
       "                                                   n_estimators='warn',\n",
       "                                                   n_jobs=None, oob_score=False,\n",
       "                                                   random_sta...one, verbose=0,\n",
       "                                                   warm_start=False),\n",
       "                   iid='warn', n_iter=100, n_jobs=-1,\n",
       "                   param_distributions={'max_depth': [1, 5, 10, 15, 20],\n",
       "                                        'min_samples_leaf': [10, 20, 30, 50, 80,\n",
       "                                                             100, 150],\n",
       "                                        'n_estimators': [100, 150, 200, 250,\n",
       "                                                         300, 350, 400, 450,\n",
       "                                                         500, 550, 600, 650,\n",
       "                                                         700, 750, 800, 850,\n",
       "                                                         900, 950, 1000]},\n",
       "                   pre_dispatch='2*n_jobs', random_state=42, refit=True,\n",
       "                   return_train_score=False, scoring=None, verbose=2)"
      ]
     },
     "execution_count": 41,
     "metadata": {},
     "output_type": "execute_result"
    }
   ],
   "source": [
    "rf = RandomForestRegressor()\n",
    "rf_random = RandomizedSearchCV(estimator = rf, param_distributions = random_grid, n_iter = 100, cv = 3, verbose=2, random_state=42, n_jobs = -1)\n",
    "rf_random.fit(X, y_lgmap)"
   ]
  },
  {
   "cell_type": "code",
   "execution_count": 43,
   "metadata": {},
   "outputs": [
    {
     "data": {
      "text/plain": [
       "{'n_estimators': 1000, 'min_samples_leaf': 50, 'max_depth': 10}"
      ]
     },
     "execution_count": 43,
     "metadata": {},
     "output_type": "execute_result"
    }
   ],
   "source": [
    "rf_random.best_params_"
   ]
  },
  {
   "cell_type": "code",
   "execution_count": 44,
   "metadata": {},
   "outputs": [],
   "source": [
    "rf_best = RandomForestRegressor(n_estimators=1000,\n",
    "                           min_samples_leaf=50,\n",
    "                           random_state=42, \n",
    "                           max_depth=10, \n",
    "                           criterion='mse', \n",
    "                           bootstrap=True,\n",
    "                           n_jobs=-1)"
   ]
  },
  {
   "cell_type": "code",
   "execution_count": 45,
   "metadata": {},
   "outputs": [
    {
     "name": "stdout",
     "output_type": "stream",
     "text": [
      "R^2 on validation set of the Random Forest regression model is: 0.9216267410180505\n"
     ]
    }
   ],
   "source": [
    "rf_best, rf_ym_val = fit_evaluate_model(rf_best, X_train, ym_train, X_val, ym_val)\n",
    "print(\"R^2 on validation set of the Random Forest regression model is:\", rf_ym_val)"
   ]
  },
  {
   "cell_type": "markdown",
   "metadata": {},
   "source": [
    "### NN"
   ]
  },
  {
   "cell_type": "code",
   "execution_count": 174,
   "metadata": {},
   "outputs": [
    {
     "data": {
      "text/html": [
       "<div>\n",
       "<style scoped>\n",
       "    .dataframe tbody tr th:only-of-type {\n",
       "        vertical-align: middle;\n",
       "    }\n",
       "\n",
       "    .dataframe tbody tr th {\n",
       "        vertical-align: top;\n",
       "    }\n",
       "\n",
       "    .dataframe thead th {\n",
       "        text-align: right;\n",
       "    }\n",
       "</style>\n",
       "<table border=\"1\" class=\"dataframe\">\n",
       "  <thead>\n",
       "    <tr style=\"text-align: right;\">\n",
       "      <th></th>\n",
       "      <th>gender</th>\n",
       "      <th>age</th>\n",
       "      <th>x1</th>\n",
       "      <th>x2</th>\n",
       "      <th>x3</th>\n",
       "      <th>x4</th>\n",
       "      <th>x5</th>\n",
       "      <th>x6</th>\n",
       "      <th>xx1</th>\n",
       "      <th>xx2</th>\n",
       "      <th>xx3</th>\n",
       "      <th>xx4</th>\n",
       "      <th>xx5</th>\n",
       "    </tr>\n",
       "  </thead>\n",
       "  <tbody>\n",
       "    <tr>\n",
       "      <th>29</th>\n",
       "      <td>1</td>\n",
       "      <td>75</td>\n",
       "      <td>22</td>\n",
       "      <td>1</td>\n",
       "      <td>2</td>\n",
       "      <td>0</td>\n",
       "      <td>0</td>\n",
       "      <td>1</td>\n",
       "      <td>80.000</td>\n",
       "      <td>96.800</td>\n",
       "      <td>79.900</td>\n",
       "      <td>45.300</td>\n",
       "      <td>54.000</td>\n",
       "    </tr>\n",
       "    <tr>\n",
       "      <th>59</th>\n",
       "      <td>1</td>\n",
       "      <td>75</td>\n",
       "      <td>22</td>\n",
       "      <td>1</td>\n",
       "      <td>2</td>\n",
       "      <td>0</td>\n",
       "      <td>0</td>\n",
       "      <td>1</td>\n",
       "      <td>80.000</td>\n",
       "      <td>100.000</td>\n",
       "      <td>151.800</td>\n",
       "      <td>63.600</td>\n",
       "      <td>89.700</td>\n",
       "    </tr>\n",
       "    <tr>\n",
       "      <th>89</th>\n",
       "      <td>1</td>\n",
       "      <td>75</td>\n",
       "      <td>22</td>\n",
       "      <td>1</td>\n",
       "      <td>2</td>\n",
       "      <td>0</td>\n",
       "      <td>0</td>\n",
       "      <td>1</td>\n",
       "      <td>80.000</td>\n",
       "      <td>99.400</td>\n",
       "      <td>94.700</td>\n",
       "      <td>45.600</td>\n",
       "      <td>57.100</td>\n",
       "    </tr>\n",
       "    <tr>\n",
       "      <th>119</th>\n",
       "      <td>1</td>\n",
       "      <td>75</td>\n",
       "      <td>22</td>\n",
       "      <td>1</td>\n",
       "      <td>2</td>\n",
       "      <td>0</td>\n",
       "      <td>0</td>\n",
       "      <td>1</td>\n",
       "      <td>80.000</td>\n",
       "      <td>100.000</td>\n",
       "      <td>157.600</td>\n",
       "      <td>61.000</td>\n",
       "      <td>87.200</td>\n",
       "    </tr>\n",
       "    <tr>\n",
       "      <th>149</th>\n",
       "      <td>1</td>\n",
       "      <td>75</td>\n",
       "      <td>22</td>\n",
       "      <td>1</td>\n",
       "      <td>2</td>\n",
       "      <td>0</td>\n",
       "      <td>0</td>\n",
       "      <td>1</td>\n",
       "      <td>80.000</td>\n",
       "      <td>96.000</td>\n",
       "      <td>126.400</td>\n",
       "      <td>50.600</td>\n",
       "      <td>69.800</td>\n",
       "    </tr>\n",
       "    <tr>\n",
       "      <th>...</th>\n",
       "      <td>...</td>\n",
       "      <td>...</td>\n",
       "      <td>...</td>\n",
       "      <td>...</td>\n",
       "      <td>...</td>\n",
       "      <td>...</td>\n",
       "      <td>...</td>\n",
       "      <td>...</td>\n",
       "      <td>...</td>\n",
       "      <td>...</td>\n",
       "      <td>...</td>\n",
       "      <td>...</td>\n",
       "      <td>...</td>\n",
       "    </tr>\n",
       "    <tr>\n",
       "      <th>1078649</th>\n",
       "      <td>0</td>\n",
       "      <td>82</td>\n",
       "      <td>47</td>\n",
       "      <td>8</td>\n",
       "      <td>6</td>\n",
       "      <td>0</td>\n",
       "      <td>0</td>\n",
       "      <td>0</td>\n",
       "      <td>68.467</td>\n",
       "      <td>96.034</td>\n",
       "      <td>132.335</td>\n",
       "      <td>55.616</td>\n",
       "      <td>79.634</td>\n",
       "    </tr>\n",
       "    <tr>\n",
       "      <th>1078679</th>\n",
       "      <td>0</td>\n",
       "      <td>82</td>\n",
       "      <td>47</td>\n",
       "      <td>8</td>\n",
       "      <td>6</td>\n",
       "      <td>0</td>\n",
       "      <td>0</td>\n",
       "      <td>0</td>\n",
       "      <td>67.484</td>\n",
       "      <td>95.417</td>\n",
       "      <td>111.786</td>\n",
       "      <td>51.116</td>\n",
       "      <td>71.150</td>\n",
       "    </tr>\n",
       "    <tr>\n",
       "      <th>1078709</th>\n",
       "      <td>0</td>\n",
       "      <td>82</td>\n",
       "      <td>47</td>\n",
       "      <td>8</td>\n",
       "      <td>6</td>\n",
       "      <td>0</td>\n",
       "      <td>0</td>\n",
       "      <td>0</td>\n",
       "      <td>60.766</td>\n",
       "      <td>94.200</td>\n",
       "      <td>147.583</td>\n",
       "      <td>59.349</td>\n",
       "      <td>84.948</td>\n",
       "    </tr>\n",
       "    <tr>\n",
       "      <th>1078739</th>\n",
       "      <td>0</td>\n",
       "      <td>82</td>\n",
       "      <td>47</td>\n",
       "      <td>8</td>\n",
       "      <td>6</td>\n",
       "      <td>0</td>\n",
       "      <td>0</td>\n",
       "      <td>0</td>\n",
       "      <td>69.166</td>\n",
       "      <td>94.767</td>\n",
       "      <td>132.084</td>\n",
       "      <td>57.066</td>\n",
       "      <td>79.964</td>\n",
       "    </tr>\n",
       "    <tr>\n",
       "      <th>1078769</th>\n",
       "      <td>0</td>\n",
       "      <td>82</td>\n",
       "      <td>47</td>\n",
       "      <td>8</td>\n",
       "      <td>6</td>\n",
       "      <td>0</td>\n",
       "      <td>0</td>\n",
       "      <td>0</td>\n",
       "      <td>67.267</td>\n",
       "      <td>94.584</td>\n",
       "      <td>137.866</td>\n",
       "      <td>58.118</td>\n",
       "      <td>84.382</td>\n",
       "    </tr>\n",
       "  </tbody>\n",
       "</table>\n",
       "<p>35959 rows × 13 columns</p>\n",
       "</div>"
      ],
      "text/plain": [
       "         gender  age  x1  x2  x3  x4  x5  x6     xx1      xx2      xx3  \\\n",
       "29            1   75  22   1   2   0   0   1  80.000   96.800   79.900   \n",
       "59            1   75  22   1   2   0   0   1  80.000  100.000  151.800   \n",
       "89            1   75  22   1   2   0   0   1  80.000   99.400   94.700   \n",
       "119           1   75  22   1   2   0   0   1  80.000  100.000  157.600   \n",
       "149           1   75  22   1   2   0   0   1  80.000   96.000  126.400   \n",
       "...         ...  ...  ..  ..  ..  ..  ..  ..     ...      ...      ...   \n",
       "1078649       0   82  47   8   6   0   0   0  68.467   96.034  132.335   \n",
       "1078679       0   82  47   8   6   0   0   0  67.484   95.417  111.786   \n",
       "1078709       0   82  47   8   6   0   0   0  60.766   94.200  147.583   \n",
       "1078739       0   82  47   8   6   0   0   0  69.166   94.767  132.084   \n",
       "1078769       0   82  47   8   6   0   0   0  67.267   94.584  137.866   \n",
       "\n",
       "            xx4     xx5  \n",
       "29       45.300  54.000  \n",
       "59       63.600  89.700  \n",
       "89       45.600  57.100  \n",
       "119      61.000  87.200  \n",
       "149      50.600  69.800  \n",
       "...         ...     ...  \n",
       "1078649  55.616  79.634  \n",
       "1078679  51.116  71.150  \n",
       "1078709  59.349  84.948  \n",
       "1078739  57.066  79.964  \n",
       "1078769  58.118  84.382  \n",
       "\n",
       "[35959 rows x 13 columns]"
      ]
     },
     "execution_count": 174,
     "metadata": {},
     "output_type": "execute_result"
    }
   ],
   "source": [
    "X_train"
   ]
  },
  {
   "cell_type": "code",
   "execution_count": 173,
   "metadata": {},
   "outputs": [],
   "source": [
    "from sklearn.neural_network import MLPRegressor"
   ]
  },
  {
   "cell_type": "code",
   "execution_count": 253,
   "metadata": {},
   "outputs": [
    {
     "name": "stdout",
     "output_type": "stream",
     "text": [
      "{'hidden_layer_sizes': (13, 6, 1), 'activation': ['tanh', 'relu'], 'alpha': [0.0001, 5e-05, 1e-05], 'solver': ['adam'], 'learning_rate': ['constant', 'adaptive'], 'max_iter': [500]}\n"
     ]
    }
   ],
   "source": [
    "hidden_layer_sizes = (13, 6, 1)\n",
    "activation = ['tanh', 'relu']\n",
    "solver = ['adam']\n",
    "alpha = [0.0001, 0.00005, 0.00001]\n",
    "learning_rate = ['constant', 'adaptive']\n",
    "# Create the random grid\n",
    "random_grid = {'hidden_layer_sizes': hidden_layer_sizes,\n",
    "               'activation': activation,\n",
    "               'alpha': alpha,\n",
    "               'solver': solver, \n",
    "               'learning_rate':learning_rate,\n",
    "               'max_iter': [500]}\n",
    "print(random_grid)"
   ]
  },
  {
   "cell_type": "code",
   "execution_count": 254,
   "metadata": {},
   "outputs": [],
   "source": [
    "mlp = MLPRegressor()"
   ]
  },
  {
   "cell_type": "code",
   "execution_count": 255,
   "metadata": {},
   "outputs": [
    {
     "name": "stdout",
     "output_type": "stream",
     "text": [
      "Fitting 3 folds for each of 36 candidates, totalling 108 fits\n"
     ]
    },
    {
     "name": "stderr",
     "output_type": "stream",
     "text": [
      "/anaconda3/lib/python3.7/site-packages/sklearn/model_selection/_search.py:266: UserWarning: The total space of parameters 36 is smaller than n_iter=500. Running 36 iterations. For exhaustive searches, use GridSearchCV.\n",
      "  % (grid_size, self.n_iter, grid_size), UserWarning)\n",
      "[Parallel(n_jobs=-1)]: Using backend LokyBackend with 12 concurrent workers.\n",
      "[Parallel(n_jobs=-1)]: Done  26 tasks      | elapsed:    8.1s\n",
      "[Parallel(n_jobs=-1)]: Done 108 out of 108 | elapsed:   52.0s finished\n"
     ]
    },
    {
     "data": {
      "text/plain": [
       "RandomizedSearchCV(cv=3, error_score='raise-deprecating',\n",
       "                   estimator=MLPRegressor(activation='relu', alpha=0.0001,\n",
       "                                          batch_size='auto', beta_1=0.9,\n",
       "                                          beta_2=0.999, early_stopping=False,\n",
       "                                          epsilon=1e-08,\n",
       "                                          hidden_layer_sizes=(100,),\n",
       "                                          learning_rate='constant',\n",
       "                                          learning_rate_init=0.001,\n",
       "                                          max_iter=200, momentum=0.9,\n",
       "                                          n_iter_no_change=10,\n",
       "                                          nesterovs_momentum=True, power_t=0.5,\n",
       "                                          rando...\n",
       "                                          validation_fraction=0.1,\n",
       "                                          verbose=False, warm_start=False),\n",
       "                   iid='warn', n_iter=500, n_jobs=-1,\n",
       "                   param_distributions={'activation': ['tanh', 'relu'],\n",
       "                                        'alpha': [0.0001, 5e-05, 1e-05],\n",
       "                                        'hidden_layer_sizes': (13, 6, 1),\n",
       "                                        'learning_rate': ['constant',\n",
       "                                                          'adaptive'],\n",
       "                                        'max_iter': [500], 'solver': ['adam']},\n",
       "                   pre_dispatch='2*n_jobs', random_state=42, refit=True,\n",
       "                   return_train_score=False, scoring=None, verbose=1)"
      ]
     },
     "execution_count": 255,
     "metadata": {},
     "output_type": "execute_result"
    }
   ],
   "source": [
    "mlp_random = RandomizedSearchCV(estimator = mlp, param_distributions = random_grid, n_iter = 500, cv = 3, verbose=1, random_state=42, n_jobs = -1)\n",
    "mlp_random.fit(X, y_lgmap)"
   ]
  },
  {
   "cell_type": "code",
   "execution_count": 256,
   "metadata": {},
   "outputs": [
    {
     "data": {
      "text/plain": [
       "{'solver': 'adam',\n",
       " 'max_iter': 500,\n",
       " 'learning_rate': 'adaptive',\n",
       " 'hidden_layer_sizes': 13,\n",
       " 'alpha': 1e-05,\n",
       " 'activation': 'tanh'}"
      ]
     },
     "execution_count": 256,
     "metadata": {},
     "output_type": "execute_result"
    }
   ],
   "source": [
    "mlp_random.best_params_"
   ]
  },
  {
   "cell_type": "code",
   "execution_count": 260,
   "metadata": {},
   "outputs": [
    {
     "data": {
      "text/plain": [
       "MLPRegressor(activation='tanh', alpha=0.0001, batch_size='auto', beta_1=0.9,\n",
       "             beta_2=0.999, early_stopping=False, epsilon=1e-08,\n",
       "             hidden_layer_sizes=(13, 6, 1), learning_rate='constant',\n",
       "             learning_rate_init=0.001, max_iter=500, momentum=0.9,\n",
       "             n_iter_no_change=10, nesterovs_momentum=True, power_t=0.5,\n",
       "             random_state=None, shuffle=True, solver='adam', tol=0.0001,\n",
       "             validation_fraction=0.1, verbose=False, warm_start=False)"
      ]
     },
     "execution_count": 260,
     "metadata": {},
     "output_type": "execute_result"
    }
   ],
   "source": [
    "mlp = MLPRegressor(hidden_layer_sizes=(13, 6, 1), activation='tanh', solver='adam', max_iter=500, alpha=0.0001)\n",
    "mlp.fit(X_train, ym_train)\n",
    "\n",
    "# predict_train = mlp.predict(X_train)\n",
    "# predict_test = mlp.predict(X_test)"
   ]
  },
  {
   "cell_type": "code",
   "execution_count": 261,
   "metadata": {},
   "outputs": [],
   "source": [
    "ym_val_predict = mlp.predict(X_val)"
   ]
  },
  {
   "cell_type": "code",
   "execution_count": 262,
   "metadata": {},
   "outputs": [
    {
     "data": {
      "text/plain": [
       "0.8941372488715875"
      ]
     },
     "execution_count": 262,
     "metadata": {},
     "output_type": "execute_result"
    }
   ],
   "source": [
    "r2_score(np.exp(ym_val), np.exp(ym_val_predict))"
   ]
  },
  {
   "cell_type": "markdown",
   "metadata": {},
   "source": [
    "#### --------------------- --------------------- --------------------- --------------------- --------------------- ---------------------"
   ]
  },
  {
   "cell_type": "markdown",
   "metadata": {},
   "source": [
    "## Predict"
   ]
  },
  {
   "cell_type": "code",
   "execution_count": 76,
   "metadata": {},
   "outputs": [],
   "source": [
    "sample_submission = pd.read_csv('sample_submission.csv')"
   ]
  },
  {
   "cell_type": "code",
   "execution_count": 154,
   "metadata": {},
   "outputs": [],
   "source": [
    "### for test hr\n",
    "group_mean_test_hr = test.groupby('key').mean().reset_index()\n",
    "Xtest_hr = group_mean_test_hr[['gender', 'age', 'x1', 'x2', 'x3', 'x4', 'x5', 'x6', 'xx1', 'xx2', 'xx3', 'xx4', 'xx5']]"
   ]
  },
  {
   "cell_type": "code",
   "execution_count": 139,
   "metadata": {},
   "outputs": [],
   "source": [
    "group_tail_test_map = test.groupby('key').tail(1).reset_index()\n",
    "Xtest_map = group_tail_test_map[['gender', 'age', 'x1', 'x2', 'x3', 'x4', 'x5', 'x6', 'xx1', 'xx2', 'xx3', 'xx4', 'xx5']]"
   ]
  },
  {
   "cell_type": "code",
   "execution_count": 63,
   "metadata": {},
   "outputs": [],
   "source": [
    "Xtest = test[['gender', 'age', 'x1', 'x2', 'x3', 'x4', 'x5', 'x6', 'xx1', 'xx2', 'xx3', 'xx4', 'xx5']]"
   ]
  },
  {
   "cell_type": "code",
   "execution_count": 56,
   "metadata": {},
   "outputs": [],
   "source": [
    "# Xtest_hr\n",
    "# group_mean_test_hr\n",
    "# Xtest_map\n",
    "# group_tail_test_map"
   ]
  },
  {
   "cell_type": "code",
   "execution_count": 155,
   "metadata": {},
   "outputs": [],
   "source": [
    "HR = lr.predict(Xtest_hr)"
   ]
  },
  {
   "cell_type": "code",
   "execution_count": 270,
   "metadata": {},
   "outputs": [],
   "source": [
    "MAP = mlp.predict(Xtest)\n",
    "MAP = np.exp(MAP)"
   ]
  },
  {
   "cell_type": "code",
   "execution_count": 271,
   "metadata": {},
   "outputs": [],
   "source": [
    "MAP_df = pd.DataFrame(MAP)\n",
    "HR_df = pd.DataFrame(HR)\n",
    "# sub_19 = pd.concat([test['key'], MAP_df, HR_df], axis=1)\n",
    "# sub_19.columns = [\"key\", \"y_mean_MAP\", 'y_mean_HR']"
   ]
  },
  {
   "cell_type": "code",
   "execution_count": 277,
   "metadata": {},
   "outputs": [],
   "source": [
    "# make sure key and target matches.\n",
    "sub_20hr = pd.concat([group_mean_test_hr['key'], HR_df], axis=1)\n",
    "sub_20map = pd.concat([test['key'], MAP_df], axis=1).groupby('key').tail(1)"
   ]
  },
  {
   "cell_type": "code",
   "execution_count": 280,
   "metadata": {},
   "outputs": [],
   "source": [
    "sub_20final = sub_20map.join(sub_20hr.set_index('key'), lsuffix='l', on='key')"
   ]
  },
  {
   "cell_type": "code",
   "execution_count": 281,
   "metadata": {},
   "outputs": [],
   "source": [
    "sub_20final.columns = [\"key\", \"y_mean_MAP\", 'y_mean_HR']\n",
    "sub_20final.to_csv('submission_20.csv', index=0)"
   ]
  },
  {
   "cell_type": "code",
   "execution_count": null,
   "metadata": {},
   "outputs": [],
   "source": []
  }
 ],
 "metadata": {
  "kernelspec": {
   "display_name": "Python 3",
   "language": "python",
   "name": "python3"
  },
  "language_info": {
   "codemirror_mode": {
    "name": "ipython",
    "version": 3
   },
   "file_extension": ".py",
   "mimetype": "text/x-python",
   "name": "python",
   "nbconvert_exporter": "python",
   "pygments_lexer": "ipython3",
   "version": "3.7.4"
  }
 },
 "nbformat": 4,
 "nbformat_minor": 2
}
